{
 "cells": [
  {
   "cell_type": "markdown",
   "id": "54a9098d",
   "metadata": {},
   "source": [
    "DAY 1 - Band Name Generator"
   ]
  },
  {
   "cell_type": "code",
   "execution_count": 1,
   "id": "e5239b3f",
   "metadata": {},
   "outputs": [
    {
     "name": "stdout",
     "output_type": "stream",
     "text": [
      "Welcome to the Band Name Generator.\n",
      "Which city did you grow up in?\n",
      " Budapest\n",
      "What is the name of your pet?\n",
      " Fable\n",
      "Your band name coud be Budapest Fable\n"
     ]
    }
   ],
   "source": [
    "print(\"Welcome to the Band Name Generator.\")\n",
    "city = input(\"Which city did you grow up in?\\n \")\n",
    "pet = input(\"What is the name of your pet?\\n \")\n",
    "\n",
    "print(\"Your band name coud be \" + city + \" \" + pet)"
   ]
  },
  {
   "cell_type": "markdown",
   "id": "baa403a1",
   "metadata": {},
   "source": [
    "DAY 2 - Tip Calculator"
   ]
  },
  {
   "cell_type": "code",
   "execution_count": 11,
   "id": "7ad38ab0",
   "metadata": {},
   "outputs": [
    {
     "name": "stdout",
     "output_type": "stream",
     "text": [
      "Welcome to the tip calculator\n",
      "What was the total bill? $150\n",
      "how much tip would you like to give? 10, 12, or 15? 12\n",
      "How many people to split the bill 5\n",
      "Each person should pay $33.60 \n"
     ]
    }
   ],
   "source": [
    "print(\"Welcome to the tip calculator\")\n",
    "bill = float(input(\"What was the total bill? $\"))\n",
    "tip = int(input(\"how much tip would you like to give? 10, 12, or 15? \"))\n",
    "people = int(input(\"How many people to split the bill \"))\n",
    "bill_with_tip = tip / 100 * bill + bill\n",
    "bill_per_person = bill_with_tip / people\n",
    "final_amount = round(bill_per_person,2)\n",
    "final_amount = \"{:.2f}\".format(bill_per_person)\n",
    "print(f\"Each person should pay ${final_amount} \")\n"
   ]
  },
  {
   "cell_type": "code",
   "execution_count": null,
   "id": "22d75e8d",
   "metadata": {},
   "outputs": [],
   "source": []
  }
 ],
 "metadata": {
  "kernelspec": {
   "display_name": "Python 3 (ipykernel)",
   "language": "python",
   "name": "python3"
  },
  "language_info": {
   "codemirror_mode": {
    "name": "ipython",
    "version": 3
   },
   "file_extension": ".py",
   "mimetype": "text/x-python",
   "name": "python",
   "nbconvert_exporter": "python",
   "pygments_lexer": "ipython3",
   "version": "3.10.7"
  }
 },
 "nbformat": 4,
 "nbformat_minor": 5
}
